{
  "nbformat": 4,
  "nbformat_minor": 0,
  "metadata": {
    "colab": {
      "provenance": [],
      "authorship_tag": "ABX9TyNNPjw4XdlS6cnOmuO+JEla",
      "include_colab_link": true
    },
    "kernelspec": {
      "name": "python3",
      "display_name": "Python 3"
    },
    "language_info": {
      "name": "python"
    }
  },
  "cells": [
    {
      "cell_type": "markdown",
      "metadata": {
        "id": "view-in-github",
        "colab_type": "text"
      },
      "source": [
        "<a href=\"https://colab.research.google.com/github/asadaligadehi/DataScience/blob/main/Lab_02_20SW042.ipynb\" target=\"_parent\"><img src=\"https://colab.research.google.com/assets/colab-badge.svg\" alt=\"Open In Colab\"/></a>"
      ]
    },
    {
      "cell_type": "markdown",
      "source": [
        "Lab#02 : Control flow in python\n",
        "\n",
        "Rollno : 20SW042\n",
        "\n",
        "Section : 2\n",
        "\n",
        "Task#01"
      ],
      "metadata": {
        "id": "rhPb97YSj-qP"
      }
    },
    {
      "cell_type": "code",
      "source": [
        "point = int(input(\"enter the points your have achieved : \"))\n",
        "\n",
        "result = \"\"\n",
        "\n",
        "if point >= 1 and point <= 50:\n",
        "   result = \"wooden rabbit\"\n",
        "   print(\"congratulations you have won : \"+ result)\n",
        "elif point >= 51 and point <= 150:\n",
        "   result = \"no pirze\"\n",
        "   print(\"congratulations you have won : \"+ result)\n",
        "elif point >= 151 and point <= 180:\n",
        "   result = \"water thin mint\"\n",
        "   print(\"congratulations you have won : \"+ result)\n",
        "elif point >= 180 and point <= 200:\n",
        "  result = \"penguin\"\n",
        "  print(\"congratulations you have won : \"+ result)\n",
        "else :\n",
        "  print(\"no prize this time\")"
      ],
      "metadata": {
        "colab": {
          "base_uri": "https://localhost:8080/"
        },
        "id": "9lmRhyz0kIPC",
        "outputId": "c3abade3-7c8f-4f02-adaf-3f05614b8f49"
      },
      "execution_count": 1,
      "outputs": [
        {
          "output_type": "stream",
          "name": "stdout",
          "text": [
            "enter the points your have achieved : 140\n",
            "congratulations you have won : no pirze\n"
          ]
        }
      ]
    },
    {
      "cell_type": "markdown",
      "source": [
        "Task#02"
      ],
      "metadata": {
        "id": "Op-FNEUskXOQ"
      }
    },
    {
      "cell_type": "code",
      "source": [
        "guess = int(input(\"guess the number which is hidden : \"))\n",
        "\n",
        "answer = 15\n",
        "\n",
        "if guess >= 1 and guess <=5:\n",
        " result = \"guess is too low\"\n",
        " print(\"your guess \"+ result)\n",
        "elif guess >= 5 and guess <= 10:\n",
        "  result = \" it is close but still low\"\n",
        "  print(\"your guess \"+ result)\n",
        "elif guess >= 10 and guess <= 15:\n",
        "   result = \"good you have guess right\"\n",
        "   print(\"your guess \"+ result)\n",
        "elif guess >= 20 :\n",
        "   result = \"too hight\"\n",
        "   print(\"your guess \"+ result)\n",
        "else :\n",
        " print(\"invalid input\")"
      ],
      "metadata": {
        "colab": {
          "base_uri": "https://localhost:8080/"
        },
        "id": "wptyt3SrkbnC",
        "outputId": "c619cbe6-df30-4530-cee9-e13c3c7e3092"
      },
      "execution_count": 2,
      "outputs": [
        {
          "output_type": "stream",
          "name": "stdout",
          "text": [
            "guess the number which is hidden : 6\n",
            "your guess  it is close but still low\n"
          ]
        }
      ]
    },
    {
      "cell_type": "markdown",
      "source": [
        "Task#03"
      ],
      "metadata": {
        "id": "7Ofr_mbxklLX"
      }
    },
    {
      "cell_type": "code",
      "source": [
        "from IPython.core.formatters import StringIO\n",
        "amount = int(input(\"enter the purchase amount : \"))\n",
        "state = str(input(\"enter the state name like ( CA, MN, NY) : \"))\n",
        "\n",
        "tax = 0.0\n",
        "\n",
        "if state == \"CA\":\n",
        " tax = amount * 0.075\n",
        " print(\"the tax charge is  \"+ str(tax))\n",
        "elif state == \"MN\":\n",
        "   tax = amount * 0.095\n",
        "   print(\"the tax charge is  \"+ str(tax))\n",
        "\n",
        "elif state == \"NY\":\n",
        "\n",
        "    tax = amount * 0.089\n",
        "    print(\"the tax charge is  \"+ str(tax))\n",
        "else :\n",
        " print(\"invalid input\")"
      ],
      "metadata": {
        "colab": {
          "base_uri": "https://localhost:8080/"
        },
        "id": "VZGI4GqyknZK",
        "outputId": "a4994158-bf4e-4134-e590-011c1b5c1935"
      },
      "execution_count": 3,
      "outputs": [
        {
          "output_type": "stream",
          "name": "stdout",
          "text": [
            "enter the purchase amount : 10000\n",
            "enter the state name like ( CA, MN, NY) : NY\n",
            "the tax charge is  890.0\n"
          ]
        }
      ]
    },
    {
      "cell_type": "markdown",
      "source": [
        "Task#04"
      ],
      "metadata": {
        "id": "YE81OTi9k0JW"
      }
    },
    {
      "cell_type": "code",
      "source": [
        "sentence = [\"the\", \"quick\", \"brown\", \"fox\", \"jumped\", \"over\", \"the\", \"lazy\", \"dog\"]\n",
        "\n",
        "for i in sentence:\n",
        "\n",
        "  print(i)"
      ],
      "metadata": {
        "colab": {
          "base_uri": "https://localhost:8080/"
        },
        "id": "zTgFmu6Nk2kk",
        "outputId": "d056388d-29ff-4b7c-faab-37cb46028047"
      },
      "execution_count": 4,
      "outputs": [
        {
          "output_type": "stream",
          "name": "stdout",
          "text": [
            "the\n",
            "quick\n",
            "brown\n",
            "fox\n",
            "jumped\n",
            "over\n",
            "the\n",
            "lazy\n",
            "dog\n"
          ]
        }
      ]
    },
    {
      "cell_type": "markdown",
      "source": [
        "Task#05"
      ],
      "metadata": {
        "id": "GbdYNT8Pk9Kk"
      }
    },
    {
      "cell_type": "code",
      "source": [
        "for num in range(5, 31, 5):\n",
        "    print(num)"
      ],
      "metadata": {
        "colab": {
          "base_uri": "https://localhost:8080/"
        },
        "id": "JM7md3ablAfw",
        "outputId": "4393fcc2-4bfd-4ad6-dc30-5cf4fe452b5d"
      },
      "execution_count": 5,
      "outputs": [
        {
          "output_type": "stream",
          "name": "stdout",
          "text": [
            "5\n",
            "10\n",
            "15\n",
            "20\n",
            "25\n",
            "30\n"
          ]
        }
      ]
    },
    {
      "cell_type": "markdown",
      "source": [
        "Task#06"
      ],
      "metadata": {
        "id": "bYBEMrJulG4F"
      }
    },
    {
      "cell_type": "code",
      "source": [
        "names = [\"Ameer ali\", \"Asad ali\", \"Farhan ali\", \"Awais ali\"]\n",
        "\n",
        "# Using list comprehension to extract first names in lowercase\n",
        "first_names = [name.split()[0].lower() for name in names]\n",
        "print(first_names)"
      ],
      "metadata": {
        "colab": {
          "base_uri": "https://localhost:8080/"
        },
        "id": "qLOswEF_lJj8",
        "outputId": "be4f1bf6-6020-45e3-a15b-5103cc3cbed8"
      },
      "execution_count": 6,
      "outputs": [
        {
          "output_type": "stream",
          "name": "stdout",
          "text": [
            "['ameer', 'asad', 'farhan', 'awais']\n"
          ]
        }
      ]
    },
    {
      "cell_type": "markdown",
      "source": [
        "Task#07"
      ],
      "metadata": {
        "id": "SxYvTWn-lUuF"
      }
    },
    {
      "cell_type": "code",
      "source": [
        "first_names = [i**3 for i in range(1,20)]\n",
        "\n",
        "print(first_names)"
      ],
      "metadata": {
        "colab": {
          "base_uri": "https://localhost:8080/"
        },
        "id": "yjchY2EIlWwx",
        "outputId": "559b81a1-805e-478f-e768-e6ea222b1851"
      },
      "execution_count": 7,
      "outputs": [
        {
          "output_type": "stream",
          "name": "stdout",
          "text": [
            "[1, 8, 27, 64, 125, 216, 343, 512, 729, 1000, 1331, 1728, 2197, 2744, 3375, 4096, 4913, 5832, 6859]\n"
          ]
        }
      ]
    },
    {
      "cell_type": "markdown",
      "source": [
        "Task#08"
      ],
      "metadata": {
        "id": "w44kb0oFlcTs"
      }
    },
    {
      "cell_type": "code",
      "source": [
        "scores = {\"Farhan Ali\": 66, \"Asad Ali\": 70, \"Awais Ali\": 82, \"Awais chandio\": 87, \"Zohaib Ali\": 40}\n",
        "\n",
        "# List comprehension to get names with scores >= 65\n",
        "passed_names = [name for name, score in scores.items() if score >= 65]\n",
        "\n",
        "print(passed_names)"
      ],
      "metadata": {
        "colab": {
          "base_uri": "https://localhost:8080/"
        },
        "id": "MpGEaYLxle1_",
        "outputId": "6935eb3e-8ee2-4a49-a37e-0508faec62fb"
      },
      "execution_count": 8,
      "outputs": [
        {
          "output_type": "stream",
          "name": "stdout",
          "text": [
            "['Farhan Ali', 'Asad Ali', 'Awais Ali', 'Awais chandio']\n"
          ]
        }
      ]
    },
    {
      "cell_type": "markdown",
      "source": [
        "Task#09"
      ],
      "metadata": {
        "id": "zB_pwt33l2Fv"
      }
    },
    {
      "cell_type": "code",
      "source": [
        "cast_names = [\"Barry\", \"Robin\", \"Ted\", \"Lily\", \"Marshall\"]\n",
        "cast_heights = [72, 68, 72, 66, 76]\n",
        "\n",
        "cast = dict(zip(cast_names, cast_heights))\n",
        "\n",
        "print(cast)\n",
        ""
      ],
      "metadata": {
        "colab": {
          "base_uri": "https://localhost:8080/"
        },
        "id": "2QwBEx3El4gC",
        "outputId": "4fa365b5-1cd6-48da-c668-3adffefde012"
      },
      "execution_count": 9,
      "outputs": [
        {
          "output_type": "stream",
          "name": "stdout",
          "text": [
            "{'Barry': 72, 'Robin': 68, 'Ted': 72, 'Lily': 66, 'Marshall': 76}\n"
          ]
        }
      ]
    },
    {
      "cell_type": "markdown",
      "source": [
        "Task#10"
      ],
      "metadata": {
        "id": "QqP_QxG8mDoV"
      }
    },
    {
      "cell_type": "code",
      "source": [
        "cast = [\"Barney Stinson\", \"Robin Scherbatsky\", \"Ted Mosby\", \"Lily Aldrin\", \"Marshall Eriksen\"]\n",
        "heights = [72, 68, 72, 66, 76]\n",
        "\n",
        "# Modify the cast list using enumerate() and a for loop\n",
        "for index, name in enumerate(cast):\n",
        "    cast[index] = name + str(heights[index])\n",
        "\n",
        "print(cast)"
      ],
      "metadata": {
        "colab": {
          "base_uri": "https://localhost:8080/"
        },
        "id": "TT2M5UC0mFk6",
        "outputId": "f589581e-ea16-4231-a1c3-050b80015ccf"
      },
      "execution_count": 10,
      "outputs": [
        {
          "output_type": "stream",
          "name": "stdout",
          "text": [
            "['Barney Stinson72', 'Robin Scherbatsky68', 'Ted Mosby72', 'Lily Aldrin66', 'Marshall Eriksen76']\n"
          ]
        }
      ]
    }
  ]
}