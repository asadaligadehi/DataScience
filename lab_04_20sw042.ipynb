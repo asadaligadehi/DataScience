{
  "nbformat": 4,
  "nbformat_minor": 0,
  "metadata": {
    "colab": {
      "provenance": [],
      "authorship_tag": "ABX9TyOVCNW5wQKXuePW/GWT2Ik2",
      "include_colab_link": true
    },
    "kernelspec": {
      "name": "python3",
      "display_name": "Python 3"
    },
    "language_info": {
      "name": "python"
    }
  },
  "cells": [
    {
      "cell_type": "markdown",
      "metadata": {
        "id": "view-in-github",
        "colab_type": "text"
      },
      "source": [
        "<a href=\"https://colab.research.google.com/github/asadaligadehi/DataScience/blob/main/lab_04_20sw042.ipynb\" target=\"_parent\"><img src=\"https://colab.research.google.com/assets/colab-badge.svg\" alt=\"Open In Colab\"/></a>"
      ]
    },
    {
      "cell_type": "markdown",
      "source": [
        "LAB : 04 o How to import NumPy\n",
        "\n",
        "o How to create multidimensional NumPy ndarrays using various methods\n",
        "\n",
        "o How to access and change elements in ndarrays\n",
        "\n",
        "o How to load and save ndarrays\n",
        "\n",
        "o How to use slicing to select or change subsets of an ndarray\n",
        "\n",
        "o Understand the difference between a view and a copy an of ndarray\n",
        "\n",
        "o How to use Boolean indexing and set operations to select or change subsets of an ndarray\n",
        "\n",
        "o How to sort ndarrays\n",
        "\n",
        "o How to perform element-wise operations on ndarrays\n",
        "\n",
        "o Understand how NumPy uses broadcasting to perform operations on ndarrays of different sizes.\n",
        "\n",
        "Roll no : 20SW042\n",
        "\n",
        "Section : 2\n",
        "\n",
        "Task#01"
      ],
      "metadata": {
        "id": "1Ye_vCnR6fco"
      }
    },
    {
      "cell_type": "code",
      "source": [
        "import numpy as np\n",
        "\n",
        "# Generate an array of even numbers from 2 to 32 (inclusive)\n",
        "even_numbers = np.arange(2, 33, 2)\n",
        "\n",
        "# Reshape the array into a 4x4 ndarray\n",
        "X = even_numbers.reshape(4, 4)\n",
        "\n",
        "print(X)"
      ],
      "metadata": {
        "colab": {
          "base_uri": "https://localhost:8080/"
        },
        "id": "7wi0ePQM6qWU",
        "outputId": "2245145f-666f-415d-8f5b-c081ef88dab8"
      },
      "execution_count": 1,
      "outputs": [
        {
          "output_type": "stream",
          "name": "stdout",
          "text": [
            "[[ 2  4  6  8]\n",
            " [10 12 14 16]\n",
            " [18 20 22 24]\n",
            " [26 28 30 32]]\n"
          ]
        }
      ]
    },
    {
      "cell_type": "markdown",
      "source": [
        "Task#02"
      ],
      "metadata": {
        "id": "7xAdHG3O616v"
      }
    },
    {
      "cell_type": "code",
      "source": [
        "import numpy as np\n",
        "\n",
        "# Create a 5 x 5 ndarray with consecutive integers from 1 to 25 (inclusive).\n",
        "X = np.arange(1, 26).reshape(5, 5)\n",
        "\n",
        "# Use Boolean indexing to pick out only the odd numbers in the array\n",
        "Y = X[X % 2 == 1]\n",
        "\n",
        "print(\"Original array X:\\n\", X)\n",
        "print(\"\\nArray Y with odd numbers:\\n\", Y)"
      ],
      "metadata": {
        "colab": {
          "base_uri": "https://localhost:8080/"
        },
        "id": "Q_E4m-BA63Cd",
        "outputId": "7bc40c6d-0983-486c-914e-f44ed67e130b"
      },
      "execution_count": 2,
      "outputs": [
        {
          "output_type": "stream",
          "name": "stdout",
          "text": [
            "Original array X:\n",
            " [[ 1  2  3  4  5]\n",
            " [ 6  7  8  9 10]\n",
            " [11 12 13 14 15]\n",
            " [16 17 18 19 20]\n",
            " [21 22 23 24 25]]\n",
            "\n",
            "Array Y with odd numbers:\n",
            " [ 1  3  5  7  9 11 13 15 17 19 21 23 25]\n"
          ]
        }
      ]
    },
    {
      "cell_type": "markdown",
      "source": [
        "Task#03"
      ],
      "metadata": {
        "id": "-r25c3Pz68SJ"
      }
    },
    {
      "cell_type": "code",
      "source": [
        "import numpy as np\n",
        "\n",
        "# Create a 4 x 4 ndarray with columns filled with increasing values\n",
        "# using broadcasting\n",
        "X = np.arange(1, 5)[:, np.newaxis] * np.ones((4, 4))\n",
        "\n",
        "print(X)"
      ],
      "metadata": {
        "colab": {
          "base_uri": "https://localhost:8080/"
        },
        "id": "WQI-ecpU6_6E",
        "outputId": "ce56eb56-5202-42b4-9fc4-a6842f243713"
      },
      "execution_count": 3,
      "outputs": [
        {
          "output_type": "stream",
          "name": "stdout",
          "text": [
            "[[1. 1. 1. 1.]\n",
            " [2. 2. 2. 2.]\n",
            " [3. 3. 3. 3.]\n",
            " [4. 4. 4. 4.]]\n"
          ]
        }
      ]
    },
    {
      "cell_type": "markdown",
      "source": [
        "Task#04"
      ],
      "metadata": {
        "id": "MxPE_xpL7FAL"
      }
    },
    {
      "cell_type": "code",
      "source": [
        "import numpy as np\n",
        "\n",
        "# Create a random permutation of integers 0 to 4\n",
        "permuted_indices = np.random.permutation(5)\n",
        "\n",
        "# Create a 1000 x 20 ndarray with random integers in the half-open interval [0, 5001).\n",
        "X = np.random.randint(0, 5001, size=(1000, 20))\n",
        "\n",
        "# Create a rank 1 ndarray that contains a random permutation of the row indices of `X`\n",
        "row_indices = np.random.permutation(X.shape[0])\n",
        "\n",
        "# Make any necessary calculations.\n",
        "# You can save your calculations into variables to use later.\n",
        "\n",
        "# Create a Training Set\n",
        "X_train = X[row_indices[:700], :]\n",
        "\n",
        "# Create a Cross Validation Set\n",
        "X_crossVal = X[row_indices[700:850], :]\n",
        "\n",
        "# Create a Test Set\n",
        "X_test = X[row_indices[850:], :]\n",
        "\n",
        "# Print the shape of X_train\n",
        "print(\"Shape of X_train:\", X_train.shape)\n",
        "\n",
        "# Print the shape of X_crossVal\n",
        "print(\"Shape of X_crossVal:\", X_crossVal.shape)\n",
        "\n",
        "# Print the shape of X_test\n",
        "print(\"Shape of X_test:\", X_test.shape)"
      ],
      "metadata": {
        "colab": {
          "base_uri": "https://localhost:8080/"
        },
        "id": "TfTfdAgO7Iz-",
        "outputId": "9c8bca21-71dd-4afa-9926-4706d70b4609"
      },
      "execution_count": 4,
      "outputs": [
        {
          "output_type": "stream",
          "name": "stdout",
          "text": [
            "Shape of X_train: (700, 20)\n",
            "Shape of X_crossVal: (150, 20)\n",
            "Shape of X_test: (150, 20)\n"
          ]
        }
      ]
    },
    {
      "cell_type": "markdown",
      "source": [
        "Task#05"
      ],
      "metadata": {
        "id": "dkgRU_gB7UAW"
      }
    },
    {
      "cell_type": "code",
      "source": [
        "import numpy as np\n",
        "\n",
        "# Create a 1000 x 20 ndarray with random integers in the half-open interval [0, 5001).\n",
        "X = np.random.randint(0, 5001, size=(1000, 20))\n",
        "\n",
        "# Print the shape of X\n",
        "print(\"Shape of X:\", X.shape)\n",
        "\n",
        "# Average of the values in each column of X\n",
        "ave_cols = np.mean(X, axis=0)\n",
        "\n",
        "# Standard Deviation of the values in each column of X\n",
        "std_cols = np.std(X, axis=0)\n",
        "\n",
        "# Print the shape of ave_cols\n",
        "print(\"Shape of ave_cols:\", ave_cols.shape)\n",
        "\n",
        "# Print the shape of std_cols\n",
        "print(\"Shape of std_cols:\", std_cols.shape)\n",
        "\n",
        "# Mean normalize X\n",
        "X_norm = (X - np.mean(X, axis=0)) / np.std(X, axis=0)\n",
        "\n",
        "# Print the average of all the values of X_norm\n",
        "print(\"Average of all values in X_norm:\", np.mean(X_norm))\n",
        "\n",
        "# Print the average of the minimum value in each column of X_norm\n",
        "print(\"Average of minimum values in each column of X_norm:\", np.mean(np.min(X_norm, axis=0)))\n",
        "\n",
        "# Print the average of the maximum value in each column of X_norm\n",
        "print(\"Average of maximum values in each column of X_norm:\", np.mean(np.max(X_norm, axis=0)))"
      ],
      "metadata": {
        "colab": {
          "base_uri": "https://localhost:8080/"
        },
        "id": "xFvF6M2I7Ydn",
        "outputId": "53cd9dc2-d02c-4d4c-c91c-23a81eb0a24a"
      },
      "execution_count": 5,
      "outputs": [
        {
          "output_type": "stream",
          "name": "stdout",
          "text": [
            "Shape of X: (1000, 20)\n",
            "Shape of ave_cols: (20,)\n",
            "Shape of std_cols: (20,)\n",
            "Average of all values in X_norm: 2.6822988274943783e-17\n",
            "Average of minimum values in each column of X_norm: -1.724986822402467\n",
            "Average of maximum values in each column of X_norm: 1.736102891179155\n"
          ]
        }
      ]
    }
  ]
}