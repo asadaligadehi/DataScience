{
  "nbformat": 4,
  "nbformat_minor": 0,
  "metadata": {
    "colab": {
      "provenance": [],
      "authorship_tag": "ABX9TyPj/4oPSmjC0XjoykBNP6Kl",
      "include_colab_link": true
    },
    "kernelspec": {
      "name": "python3",
      "display_name": "Python 3"
    },
    "language_info": {
      "name": "python"
    }
  },
  "cells": [
    {
      "cell_type": "markdown",
      "metadata": {
        "id": "view-in-github",
        "colab_type": "text"
      },
      "source": [
        "<a href=\"https://colab.research.google.com/github/asadaligadehi/DataScience/blob/main/Lab_01_20SW042.ipynb\" target=\"_parent\"><img src=\"https://colab.research.google.com/assets/colab-badge.svg\" alt=\"Open In Colab\"/></a>"
      ]
    },
    {
      "cell_type": "markdown",
      "source": [
        "Lab#01-Data Types and Operators\n",
        "\n",
        "Rollno : 20SW042\n",
        "\n",
        "Section : 2"
      ],
      "metadata": {
        "id": "r04DzIWjMZ_B"
      }
    },
    {
      "cell_type": "markdown",
      "source": [
        "Task#01"
      ],
      "metadata": {
        "id": "UbLr4qq2VPCW"
      }
    },
    {
      "cell_type": "code",
      "source": [
        "name = \"Asad\"\n",
        "rollno = 42\n",
        "print(\"my name is {}\".format(name))\n",
        "print(\"my roll number is {}\".format(rollno))"
      ],
      "metadata": {
        "colab": {
          "base_uri": "https://localhost:8080/"
        },
        "id": "QPu182qVVReh",
        "outputId": "735b8806-1da8-41ed-f050-ea9ff916b4fa"
      },
      "execution_count": 1,
      "outputs": [
        {
          "output_type": "stream",
          "name": "stdout",
          "text": [
            "my name is Asad\n",
            "my roll number is 42\n"
          ]
        }
      ]
    },
    {
      "cell_type": "markdown",
      "source": [
        "Task#02"
      ],
      "metadata": {
        "id": "xlXi5twhVrZ4"
      }
    },
    {
      "cell_type": "code",
      "source": [
        "text = \"Hello, World!\"\n",
        "\n",
        "# Capitalizing the first letter of the string\n",
        "print(\"Capitalized:\", text.capitalize())\n",
        "# Capitalizing the first letter of the string\n",
        "print(\"Capitalized:\", text.casefold())\n",
        "centered_text = text.center(20, \"*\")\n",
        "print(\"Centered text:\", centered_text)\n",
        "# Counting occurrences of a substring in the string\n",
        "print(\"Count of 'l':\", text.count(\"l\"))\n",
        "text = \"Hello, World!\"\n",
        "\n",
        "# Encoding the string using UTF-8\n",
        "encoded_text = text.encode(\"utf-8\")\n",
        "print(\"Encoded text:\", encoded_text)\n",
        "# checks if the string starts with a specific substring\n",
        "print(\"Starts with 'Hello':\", text.startswith(\"Hello\"))\n",
        "# Checking if the string ends with a specific substring\n",
        "print(\"Ends with 'World!':\", text.endswith(\"World!\"))"
      ],
      "metadata": {
        "colab": {
          "base_uri": "https://localhost:8080/"
        },
        "id": "RjtfeLs8VuOs",
        "outputId": "0a263e65-0565-4e8f-f2bc-eac356e80e8a"
      },
      "execution_count": 2,
      "outputs": [
        {
          "output_type": "stream",
          "name": "stdout",
          "text": [
            "Capitalized: Hello, world!\n",
            "Capitalized: hello, world!\n",
            "Centered text: ***Hello, World!****\n",
            "Count of 'l': 3\n",
            "Encoded text: b'Hello, World!'\n",
            "Starts with 'Hello': True\n",
            "Ends with 'World!': True\n"
          ]
        }
      ]
    },
    {
      "cell_type": "markdown",
      "source": [
        "Task#03"
      ],
      "metadata": {
        "id": "zSoubU1SWBDG"
      }
    },
    {
      "cell_type": "code",
      "source": [
        "month = 4\n",
        "days_in_month = [31,28,31,30,31,30,31,31,30,31,30,31]\n",
        "days = days_in_month[month-1]\n",
        "print(days)"
      ],
      "metadata": {
        "colab": {
          "base_uri": "https://localhost:8080/"
        },
        "id": "ZxDZ-nnPWFIW",
        "outputId": "74a706c8-1f95-4c93-d232-687981264a0c"
      },
      "execution_count": 3,
      "outputs": [
        {
          "output_type": "stream",
          "name": "stdout",
          "text": [
            "30\n"
          ]
        }
      ]
    },
    {
      "cell_type": "markdown",
      "source": [
        "Task#04"
      ],
      "metadata": {
        "id": "QgT21278WSWF"
      }
    },
    {
      "cell_type": "code",
      "source": [
        "eclipse_dates = ['June 21, 2001', 'December 4, 2002', 'November 23,2003',\n",
        " 'March 29, 2006', 'August 1, 2008', 'July 22, 2009',\n",
        " 'July 11, 2010', 'November 13, 2012', 'March 20,2015',\n",
        " 'March 9, 2016']\n",
        "# TODO: Modify this line so it prints the last three elements of the\n",
        "print(eclipse_dates[7:10])"
      ],
      "metadata": {
        "colab": {
          "base_uri": "https://localhost:8080/"
        },
        "id": "or3-7O_TWUuO",
        "outputId": "2345d282-1bb5-4a84-8bac-b5ff416e0ea6"
      },
      "execution_count": 4,
      "outputs": [
        {
          "output_type": "stream",
          "name": "stdout",
          "text": [
            "['November 13, 2012', 'March 20,2015', 'March 9, 2016']\n"
          ]
        }
      ]
    },
    {
      "cell_type": "markdown",
      "source": [
        "Task#05"
      ],
      "metadata": {
        "id": "IM6WwjG-Wc5I"
      }
    },
    {
      "cell_type": "code",
      "source": [
        "nested_dict = {\n",
        "    'asad': {\n",
        "        'rollno': '042',\n",
        "        'Batch': '20',\n",
        "        'gpa': '3.5'\n",
        "    },\n",
        "    'farhan': {\n",
        "        'rollno': '72',\n",
        "        'gpa': '4'\n",
        "    },\n",
        "    'key3': {\n",
        "        'awais': {\n",
        "            'rollno': '48',\n",
        "            'gpa': '3.4'\n",
        "        }\n",
        "    }\n",
        "}\n",
        "\n",
        "print(nested_dict)"
      ],
      "metadata": {
        "colab": {
          "base_uri": "https://localhost:8080/"
        },
        "id": "QKlr8oaJWfB1",
        "outputId": "4fe8bfcc-6192-42ec-85b8-3f828a5576fa"
      },
      "execution_count": 5,
      "outputs": [
        {
          "output_type": "stream",
          "name": "stdout",
          "text": [
            "{'asad': {'rollno': '042', 'Batch': '20', 'gpa': '3.5'}, 'farhan': {'rollno': '72', 'gpa': '4'}, 'key3': {'awais': {'rollno': '48', 'gpa': '3.4'}}}\n"
          ]
        }
      ]
    }
  ]
}